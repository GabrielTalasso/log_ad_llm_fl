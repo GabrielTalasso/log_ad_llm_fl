{
 "cells": [
  {
   "cell_type": "code",
   "execution_count": 16,
   "metadata": {},
   "outputs": [],
   "source": [
    "import os\n",
    "import pandas as pd\n",
    "from datasets import Dataset, DatasetDict\n",
    "import torch\n",
    "from transformers import AutoTokenizer, AutoModelForMaskedLM, TrainingArguments, Trainer, DataCollatorForLanguageModeling\n",
    "from peft import LoraConfig, get_peft_model\n",
    "import json\n",
    "import re\n",
    "\n",
    "os.environ[\"CUDA_VISIBLE_DEVICES\"] = \"1\"\n",
    "\n",
    "# Step 1: Load Dataset\n",
    "dataset_path = '../.dataset/hdfs/train.csv'"
   ]
  },
  {
   "cell_type": "code",
   "execution_count": 17,
   "metadata": {},
   "outputs": [],
   "source": [
    "data = pd.read_csv(dataset_path)#, nrows=10000)\n",
    "data_normal = data[data[\"Label\"] == 0]  # Filter out anomalies\n",
    "data_anomaly = data[data[\"Label\"] == 1] "
   ]
  },
  {
   "cell_type": "code",
   "execution_count": 19,
   "metadata": {},
   "outputs": [],
   "source": [
    "regex = [\n",
    "        r\"(?<=blk_)[-\\d]+\", # block_id\n",
    "        r'\\d+\\.\\d+\\.\\d+\\.\\d+',  # IP\n",
    "        r\"(/[-\\w]+)+\",  # file path\n",
    "        #r'(?<=[^A-Za-z0-9])(\\-?\\+?\\d+)(?=[^A-Za-z0-9])|[0-9]+$',  # Numbers\n",
    "        ]\n",
    "\n",
    "def apply_regex(line):\n",
    "    for r in regex:\n",
    "        line = re.sub(r, '<*>', line)\n",
    "    return line"
   ]
  },
  {
   "cell_type": "code",
   "execution_count": 20,
   "metadata": {},
   "outputs": [
    {
     "name": "stderr",
     "output_type": "stream",
     "text": [
      "/tmp/ipykernel_560610/148702825.py:1: SettingWithCopyWarning: \n",
      "A value is trying to be set on a copy of a slice from a DataFrame.\n",
      "Try using .loc[row_indexer,col_indexer] = value instead\n",
      "\n",
      "See the caveats in the documentation: https://pandas.pydata.org/pandas-docs/stable/user_guide/indexing.html#returning-a-view-versus-a-copy\n",
      "  data_normal['Content'] = data_normal['Content'].apply(apply_regex)\n"
     ]
    }
   ],
   "source": [
    "data_normal['Content'] = data_normal['Content'].apply(apply_regex)"
   ]
  }
 ],
 "metadata": {
  "kernelspec": {
   "display_name": ".venv",
   "language": "python",
   "name": "python3"
  },
  "language_info": {
   "codemirror_mode": {
    "name": "ipython",
    "version": 3
   },
   "file_extension": ".py",
   "mimetype": "text/x-python",
   "name": "python",
   "nbconvert_exporter": "python",
   "pygments_lexer": "ipython3",
   "version": "3.10.12"
  }
 },
 "nbformat": 4,
 "nbformat_minor": 2
}
